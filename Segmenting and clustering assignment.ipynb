{
    "cells": [
        {
            "cell_type": "markdown",
            "metadata": {},
            "source": "#  Capstone: Segmenting and clustering assignment"
        },
        {
            "cell_type": "markdown",
            "metadata": {
                "collapsed": true
            },
            "source": "Importing the necessary packages\n"
        },
        {
            "cell_type": "code",
            "execution_count": 2,
            "metadata": {},
            "outputs": [],
            "source": "import pandas as pd"
        },
        {
            "cell_type": "markdown",
            "metadata": {},
            "source": "Reading in the data"
        },
        {
            "cell_type": "code",
            "execution_count": 3,
            "metadata": {},
            "outputs": [],
            "source": "df = pd.read_html('https://en.wikipedia.org/wiki/List_of_postal_codes_of_Canada:_M')[0]"
        },
        {
            "cell_type": "markdown",
            "metadata": {},
            "source": "Dropping rows containing \"Not assigned\" in the Borough column "
        },
        {
            "cell_type": "code",
            "execution_count": 4,
            "metadata": {},
            "outputs": [],
            "source": "df.drop(df.loc[df[\"Borough\"]==\"Not assigned\"].index, inplace=True)\n"
        },
        {
            "cell_type": "code",
            "execution_count": 5,
            "metadata": {},
            "outputs": [
                {
                    "data": {
                        "text/html": "<div>\n<style scoped>\n    .dataframe tbody tr th:only-of-type {\n        vertical-align: middle;\n    }\n\n    .dataframe tbody tr th {\n        vertical-align: top;\n    }\n\n    .dataframe thead th {\n        text-align: right;\n    }\n</style>\n<table border=\"1\" class=\"dataframe\">\n  <thead>\n    <tr style=\"text-align: right;\">\n      <th></th>\n      <th>Postcode</th>\n      <th>Borough</th>\n      <th>Neighbourhood</th>\n    </tr>\n  </thead>\n  <tbody>\n    <tr>\n      <th>2</th>\n      <td>M3A</td>\n      <td>North York</td>\n      <td>Parkwoods</td>\n    </tr>\n    <tr>\n      <th>3</th>\n      <td>M4A</td>\n      <td>North York</td>\n      <td>Victoria Village</td>\n    </tr>\n    <tr>\n      <th>4</th>\n      <td>M5A</td>\n      <td>Downtown Toronto</td>\n      <td>Harbourfront</td>\n    </tr>\n    <tr>\n      <th>5</th>\n      <td>M6A</td>\n      <td>North York</td>\n      <td>Lawrence Heights</td>\n    </tr>\n    <tr>\n      <th>6</th>\n      <td>M6A</td>\n      <td>North York</td>\n      <td>Lawrence Manor</td>\n    </tr>\n  </tbody>\n</table>\n</div>",
                        "text/plain": "  Postcode           Borough     Neighbourhood\n2      M3A        North York         Parkwoods\n3      M4A        North York  Victoria Village\n4      M5A  Downtown Toronto      Harbourfront\n5      M6A        North York  Lawrence Heights\n6      M6A        North York    Lawrence Manor"
                    },
                    "execution_count": 5,
                    "metadata": {},
                    "output_type": "execute_result"
                }
            ],
            "source": "df.head()"
        },
        {
            "cell_type": "markdown",
            "metadata": {},
            "source": "Combining rows under \"Neighbourhood\" with same value in \"Postcode\""
        },
        {
            "cell_type": "code",
            "execution_count": 6,
            "metadata": {},
            "outputs": [],
            "source": "\ndf2 = df.groupby(['Postcode','Borough'])['Neighbourhood'].agg(', '.join).reset_index()"
        },
        {
            "cell_type": "code",
            "execution_count": 7,
            "metadata": {},
            "outputs": [
                {
                    "data": {
                        "text/html": "<div>\n<style scoped>\n    .dataframe tbody tr th:only-of-type {\n        vertical-align: middle;\n    }\n\n    .dataframe tbody tr th {\n        vertical-align: top;\n    }\n\n    .dataframe thead th {\n        text-align: right;\n    }\n</style>\n<table border=\"1\" class=\"dataframe\">\n  <thead>\n    <tr style=\"text-align: right;\">\n      <th></th>\n      <th>Postcode</th>\n      <th>Borough</th>\n      <th>Neighbourhood</th>\n    </tr>\n  </thead>\n  <tbody>\n    <tr>\n      <th>98</th>\n      <td>M9N</td>\n      <td>York</td>\n      <td>Weston</td>\n    </tr>\n    <tr>\n      <th>99</th>\n      <td>M9P</td>\n      <td>Etobicoke</td>\n      <td>Westmount</td>\n    </tr>\n    <tr>\n      <th>100</th>\n      <td>M9R</td>\n      <td>Etobicoke</td>\n      <td>Kingsview Village, Martin Grove Gardens, Richv...</td>\n    </tr>\n    <tr>\n      <th>101</th>\n      <td>M9V</td>\n      <td>Etobicoke</td>\n      <td>Albion Gardens, Beaumond Heights, Humbergate, ...</td>\n    </tr>\n    <tr>\n      <th>102</th>\n      <td>M9W</td>\n      <td>Etobicoke</td>\n      <td>Northwest</td>\n    </tr>\n  </tbody>\n</table>\n</div>",
                        "text/plain": "    Postcode    Borough                                      Neighbourhood\n98       M9N       York                                             Weston\n99       M9P  Etobicoke                                          Westmount\n100      M9R  Etobicoke  Kingsview Village, Martin Grove Gardens, Richv...\n101      M9V  Etobicoke  Albion Gardens, Beaumond Heights, Humbergate, ...\n102      M9W  Etobicoke                                          Northwest"
                    },
                    "execution_count": 7,
                    "metadata": {},
                    "output_type": "execute_result"
                }
            ],
            "source": "df2.tail()"
        },
        {
            "cell_type": "markdown",
            "metadata": {},
            "source": "Convert the one \"Not assigned\" Neighbourhood to \"Queen's Park\""
        },
        {
            "cell_type": "code",
            "execution_count": 8,
            "metadata": {},
            "outputs": [],
            "source": "df2['Neighbourhood'].replace('Not assigned',\"Queen's Park\", inplace=True)"
        },
        {
            "cell_type": "markdown",
            "metadata": {},
            "source": "Get the shape of the dataframe"
        },
        {
            "cell_type": "code",
            "execution_count": 9,
            "metadata": {},
            "outputs": [
                {
                    "data": {
                        "text/plain": "(103, 3)"
                    },
                    "execution_count": 9,
                    "metadata": {},
                    "output_type": "execute_result"
                }
            ],
            "source": "df2.shape"
        }
    ],
    "metadata": {
        "kernelspec": {
            "display_name": "Python 3.6",
            "language": "python",
            "name": "python3"
        },
        "language_info": {
            "codemirror_mode": {
                "name": "ipython",
                "version": 3
            },
            "file_extension": ".py",
            "mimetype": "text/x-python",
            "name": "python",
            "nbconvert_exporter": "python",
            "pygments_lexer": "ipython3",
            "version": "3.6.9"
        }
    },
    "nbformat": 4,
    "nbformat_minor": 1
}